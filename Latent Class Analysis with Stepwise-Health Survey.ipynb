{
 "cells": [
  {
   "cell_type": "code",
   "execution_count": 1,
   "metadata": {},
   "outputs": [
    {
     "name": "stderr",
     "output_type": "stream",
     "text": [
      "C:\\Users\\jwill\\anaconda3\\lib\\site-packages\\numpy\\_distributor_init.py:30: UserWarning: loaded more than 1 DLL from .libs:\n",
      "C:\\Users\\jwill\\anaconda3\\lib\\site-packages\\numpy\\.libs\\libopenblas.EL2C6PLE4ZYW3ECEVIV3OXXGRN2NRFM2.gfortran-win_amd64.dll\n",
      "C:\\Users\\jwill\\anaconda3\\lib\\site-packages\\numpy\\.libs\\libopenblas64__v0.3.21-gcc_10_3_0.dll\n",
      "  warnings.warn(\"loaded more than 1 DLL from .libs:\"\n"
     ]
    },
    {
     "name": "stdout",
     "output_type": "stream",
     "text": [
      "C:\\Users\\jwill\\Documents\\Machine Learning\\Latent Class Analysis\n"
     ]
    }
   ],
   "source": [
    "import pandas as pd\n",
    "\n",
    "%cd \"C:\\Users\\jwill\\Documents\\Machine Learning\\Latent Class Analysis\""
   ]
  },
  {
   "cell_type": "code",
   "execution_count": 6,
   "metadata": {},
   "outputs": [
    {
     "data": {
      "text/html": [
       "<div>\n",
       "<style scoped>\n",
       "    .dataframe tbody tr th:only-of-type {\n",
       "        vertical-align: middle;\n",
       "    }\n",
       "\n",
       "    .dataframe tbody tr th {\n",
       "        vertical-align: top;\n",
       "    }\n",
       "\n",
       "    .dataframe thead th {\n",
       "        text-align: right;\n",
       "    }\n",
       "</style>\n",
       "<table border=\"1\" class=\"dataframe\">\n",
       "  <thead>\n",
       "    <tr style=\"text-align: right;\">\n",
       "      <th></th>\n",
       "      <th>Physical Activity</th>\n",
       "      <th>Dietary Habits</th>\n",
       "      <th>Smoking Status</th>\n",
       "      <th>Alcohol Consumption</th>\n",
       "      <th>Sleep Quality</th>\n",
       "    </tr>\n",
       "  </thead>\n",
       "  <tbody>\n",
       "    <tr>\n",
       "      <th>0</th>\n",
       "      <td>Occasionally</td>\n",
       "      <td>Poor</td>\n",
       "      <td>Non-Smoker</td>\n",
       "      <td>Occasionally</td>\n",
       "      <td>Average</td>\n",
       "    </tr>\n",
       "    <tr>\n",
       "      <th>1</th>\n",
       "      <td>Regularly</td>\n",
       "      <td>Average</td>\n",
       "      <td>Non-Smoker</td>\n",
       "      <td>Occasionally</td>\n",
       "      <td>Good</td>\n",
       "    </tr>\n",
       "    <tr>\n",
       "      <th>2</th>\n",
       "      <td>Regularly</td>\n",
       "      <td>Good</td>\n",
       "      <td>Current Smoker</td>\n",
       "      <td>Never</td>\n",
       "      <td>Good</td>\n",
       "    </tr>\n",
       "    <tr>\n",
       "      <th>3</th>\n",
       "      <td>Occasionally</td>\n",
       "      <td>Good</td>\n",
       "      <td>Non-Smoker</td>\n",
       "      <td>Occasionally</td>\n",
       "      <td>Poor</td>\n",
       "    </tr>\n",
       "    <tr>\n",
       "      <th>4</th>\n",
       "      <td>Never</td>\n",
       "      <td>Good</td>\n",
       "      <td>Non-Smoker</td>\n",
       "      <td>Occasionally</td>\n",
       "      <td>Poor</td>\n",
       "    </tr>\n",
       "  </tbody>\n",
       "</table>\n",
       "</div>"
      ],
      "text/plain": [
       "  Physical Activity Dietary Habits  Smoking Status Alcohol Consumption  \\\n",
       "0      Occasionally           Poor      Non-Smoker        Occasionally   \n",
       "1         Regularly        Average      Non-Smoker        Occasionally   \n",
       "2         Regularly           Good  Current Smoker               Never   \n",
       "3      Occasionally           Good      Non-Smoker        Occasionally   \n",
       "4             Never           Good      Non-Smoker        Occasionally   \n",
       "\n",
       "  Sleep Quality  \n",
       "0       Average  \n",
       "1          Good  \n",
       "2          Good  \n",
       "3          Poor  \n",
       "4          Poor  "
      ]
     },
     "execution_count": 6,
     "metadata": {},
     "output_type": "execute_result"
    }
   ],
   "source": [
    "import pandas as pd\n",
    "import numpy as np\n",
    "\n",
    "# Set seed for reproducibility\n",
    "np.random.seed(42)\n",
    "\n",
    "# Number of respondents\n",
    "n_respondents = 1000\n",
    "\n",
    "# Physical Activity Level\n",
    "physical_activity = np.random.choice(['Never', 'Occasionally', 'Regularly'], size=n_respondents, p=[0.2, 0.5, 0.3])\n",
    "\n",
    "# Dietary Habits\n",
    "dietary_habits = np.random.choice(['Poor', 'Average', 'Good'], size=n_respondents, p=[0.3, 0.4, 0.3])\n",
    "\n",
    "# Smoking Status\n",
    "smoking_status = np.random.choice(['Non-Smoker', 'Former Smoker', 'Current Smoker'], size=n_respondents, p=[0.6, 0.2, 0.2])\n",
    "\n",
    "# Alcohol Consumption\n",
    "alcohol_consumption = np.random.choice(['Never', 'Occasionally', 'Regularly'], size=n_respondents, p=[0.3, 0.5, 0.2])\n",
    "\n",
    "# Sleep Quality\n",
    "sleep_quality = np.random.choice(['Poor', 'Average', 'Good'], size=n_respondents, p=[0.3, 0.4, 0.3])\n",
    "\n",
    "# Create DataFrame\n",
    "health_data = pd.DataFrame({\n",
    "    'Physical Activity': physical_activity,\n",
    "    'Dietary Habits': dietary_habits,\n",
    "    'Smoking Status': smoking_status,\n",
    "    'Alcohol Consumption': alcohol_consumption,\n",
    "    'Sleep Quality': sleep_quality\n",
    "})\n",
    "\n",
    "health_data.head()\n"
   ]
  },
  {
   "cell_type": "code",
   "execution_count": 7,
   "metadata": {},
   "outputs": [],
   "source": [
    "# Save to CSV\n",
    "health_data.to_csv('synthetic_health_data.csv', index=False)"
   ]
  },
  {
   "cell_type": "code",
   "execution_count": 8,
   "metadata": {},
   "outputs": [
    {
     "name": "stdout",
     "output_type": "stream",
     "text": [
      "Fitting StepMix...\n"
     ]
    },
    {
     "name": "stderr",
     "output_type": "stream",
     "text": [
      "Initializations (n_init) : 100%|██████████| 1/1 [00:00<00:00, 49.75it/s, max_LL=3.26e+4, max_avg_LL=32.6]\n"
     ]
    },
    {
     "data": {
      "text/html": [
       "<div>\n",
       "<style scoped>\n",
       "    .dataframe tbody tr th:only-of-type {\n",
       "        vertical-align: middle;\n",
       "    }\n",
       "\n",
       "    .dataframe tbody tr th {\n",
       "        vertical-align: top;\n",
       "    }\n",
       "\n",
       "    .dataframe thead th {\n",
       "        text-align: right;\n",
       "    }\n",
       "</style>\n",
       "<table border=\"1\" class=\"dataframe\">\n",
       "  <thead>\n",
       "    <tr style=\"text-align: right;\">\n",
       "      <th></th>\n",
       "      <th>Physical Activity</th>\n",
       "      <th>Dietary Habits</th>\n",
       "      <th>Smoking Status</th>\n",
       "      <th>Alcohol Consumption</th>\n",
       "      <th>Sleep Quality</th>\n",
       "      <th>Latent Class</th>\n",
       "    </tr>\n",
       "  </thead>\n",
       "  <tbody>\n",
       "    <tr>\n",
       "      <th>0</th>\n",
       "      <td>Occasionally</td>\n",
       "      <td>Poor</td>\n",
       "      <td>Non-Smoker</td>\n",
       "      <td>Occasionally</td>\n",
       "      <td>Average</td>\n",
       "      <td>2</td>\n",
       "    </tr>\n",
       "    <tr>\n",
       "      <th>1</th>\n",
       "      <td>Regularly</td>\n",
       "      <td>Average</td>\n",
       "      <td>Non-Smoker</td>\n",
       "      <td>Occasionally</td>\n",
       "      <td>Good</td>\n",
       "      <td>1</td>\n",
       "    </tr>\n",
       "    <tr>\n",
       "      <th>2</th>\n",
       "      <td>Regularly</td>\n",
       "      <td>Good</td>\n",
       "      <td>Current Smoker</td>\n",
       "      <td>Never</td>\n",
       "      <td>Good</td>\n",
       "      <td>1</td>\n",
       "    </tr>\n",
       "    <tr>\n",
       "      <th>3</th>\n",
       "      <td>Occasionally</td>\n",
       "      <td>Good</td>\n",
       "      <td>Non-Smoker</td>\n",
       "      <td>Occasionally</td>\n",
       "      <td>Poor</td>\n",
       "      <td>1</td>\n",
       "    </tr>\n",
       "    <tr>\n",
       "      <th>4</th>\n",
       "      <td>Never</td>\n",
       "      <td>Good</td>\n",
       "      <td>Non-Smoker</td>\n",
       "      <td>Occasionally</td>\n",
       "      <td>Poor</td>\n",
       "      <td>1</td>\n",
       "    </tr>\n",
       "  </tbody>\n",
       "</table>\n",
       "</div>"
      ],
      "text/plain": [
       "  Physical Activity Dietary Habits  Smoking Status Alcohol Consumption  \\\n",
       "0      Occasionally           Poor      Non-Smoker        Occasionally   \n",
       "1         Regularly        Average      Non-Smoker        Occasionally   \n",
       "2         Regularly           Good  Current Smoker               Never   \n",
       "3      Occasionally           Good      Non-Smoker        Occasionally   \n",
       "4             Never           Good      Non-Smoker        Occasionally   \n",
       "\n",
       "  Sleep Quality  Latent Class  \n",
       "0       Average             2  \n",
       "1          Good             1  \n",
       "2          Good             1  \n",
       "3          Poor             1  \n",
       "4          Poor             1  "
      ]
     },
     "execution_count": 8,
     "metadata": {},
     "output_type": "execute_result"
    }
   ],
   "source": [
    "# Install the stepmix library\n",
    "\n",
    "import pandas as pd\n",
    "from sklearn.preprocessing import LabelEncoder\n",
    "from stepmix.stepmix import StepMix\n",
    "\n",
    "# Load the synthetic dataset\n",
    "health_data = pd.read_csv('synthetic_health_data.csv')\n",
    "\n",
    "# Encode categorical variables\n",
    "le = LabelEncoder()\n",
    "health_data_encoded = health_data.apply(le.fit_transform)\n",
    "\n",
    "# Convert to numpy array\n",
    "X = health_data_encoded.values\n",
    "\n",
    "# Fit StepMix model\n",
    "model = StepMix(n_components=3, n_steps=1)\n",
    "model.fit(X)\n",
    "\n",
    "# Predict latent classes\n",
    "latent_classes = model.predict(X)\n",
    "health_data['Latent Class'] = latent_classes\n",
    "\n",
    "health_data.head()\n"
   ]
  },
  {
   "cell_type": "code",
   "execution_count": 9,
   "metadata": {},
   "outputs": [
    {
     "name": "stdout",
     "output_type": "stream",
     "text": [
      "1    491\n",
      "2    286\n",
      "0    223\n",
      "Name: Latent Class, dtype: int64\n",
      "Empty DataFrame\n",
      "Columns: []\n",
      "Index: [0, 1, 2]\n"
     ]
    },
    {
     "name": "stderr",
     "output_type": "stream",
     "text": [
      "<ipython-input-9-e6ee20a9a03a>:6: FutureWarning: The default value of numeric_only in DataFrameGroupBy.mean is deprecated. In a future version, numeric_only will default to False. Either specify numeric_only or select only columns which should be valid for the function.\n",
      "  class_characteristics = health_data.groupby('Latent Class').mean()\n"
     ]
    }
   ],
   "source": [
    "# Analyze the distribution of latent classes\n",
    "class_distribution = health_data['Latent Class'].value_counts()\n",
    "print(class_distribution)\n",
    "\n",
    "# Group by latent class to see characteristics of each class\n",
    "class_characteristics = health_data.groupby('Latent Class').mean()\n",
    "print(class_characteristics)\n"
   ]
  },
  {
   "cell_type": "code",
   "execution_count": null,
   "metadata": {},
   "outputs": [],
   "source": []
  }
 ],
 "metadata": {
  "kernelspec": {
   "display_name": "Python 3",
   "language": "python",
   "name": "python3"
  },
  "language_info": {
   "codemirror_mode": {
    "name": "ipython",
    "version": 3
   },
   "file_extension": ".py",
   "mimetype": "text/x-python",
   "name": "python",
   "nbconvert_exporter": "python",
   "pygments_lexer": "ipython3",
   "version": "3.8.5"
  }
 },
 "nbformat": 4,
 "nbformat_minor": 4
}
